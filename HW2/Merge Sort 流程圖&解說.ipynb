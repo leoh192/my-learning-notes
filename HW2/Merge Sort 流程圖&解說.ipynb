<mxfile host="www.draw.io" modified="2019-11-08T00:05:25.607Z" agent="Mozilla/5.0 (Windows NT 10.0; Win64; x64) AppleWebKit/537.36 (KHTML, like Gecko) Chrome/78.0.3904.87 Safari/537.36" etag="lpssYEQXQ4dZ34RxL6hu" version="12.2.2" type="github" pages="1"><diagram id="E808KeydmusZ3YfVhmKN" name="Page-1">5VpRb5swEP41lraHToCBwGNI6KZp1SZl0ta+TG5xCJODI3CapL9+ZzAQcFplWiKnXV7iO3xg7vvuzmeB8GS5/ViQ1eKGJ5Qhx0q2CE+R49iW48Kf1OxqjYeVIi2yRE3qFLPsiTaWSrvOElr2JgrOmchWfeUDz3P6IHo6UhR8058256z/1BVJqaaYPRCma39kiVjU2sAZdfpPNEsXzZNtP6yvLEkzWb1JuSAJ3+ypcIzwpOBc1KPldkKZdF7jl9ru+pmr7cIKmotjDPK764m7/YjvZsuvEfn12abCuWreoxS75o1pAg5QIi/Egqc8JyzutFHB13lC5W0tkLo5XzhfgdIG5W8qxE6hSdaCg2ohlkxdhRUXu5/KvhJupfDBa8Tpdv/idKekeq1ygc/6QKlKvi4e6Asv3nCJFCkVLznIbqECjlO+pLAgMCwoIyJ77C+EKLKl7bwODxgoSP4CHnXfR8LW6kko9lEQocBHsYeCQA6GAPbh2SwyQWcrUnljA0Hah2KeMTbhjBeVLb6G32TSuvqRFoJuX3a27htlECriq8j3AyVvujiym+BY7MWQb53Jm05oluwdv2979D472Z0jyY5Nct05zPUYhY7kejRGwfXFch37fbIHtmeY7Nj5TzM7PpbsRjM7PsB2D0HKhJweuyiaosh7NWwPPdOp3Q6MsH2bib3MDtLt3pWO6lLY7fPebDnwj4wQe2QyQnwtQpYUFlwCTu9gZ09275HjM1h/dF/AKJWjHAyquRajeTtrSAzGoHugl7Q3wu6RARScLYD0hFQKurJ1H2v+BC+IvuMKWmZP5L6aILm74lkuqhV7EfKmoJGxVNZhJQ0Iy9IcxozO5a2kazPowcZKLWQ8RiUAleXp9yo4r9zTAGF7fSTckY6EdwAI52xA6Gn//9ik2u6Rack3mZWaVfYKd4jCqiuDCj4eycFpC3cIv7OknfaUxVzdNtOSvc66bY+OLdxGI2SkRUg2Bxlqs0+WkutVGbE14C9ldzsIEs813co1DxvUZr3Be1OV2MeGK7HzanqKE+aYfz7vVKbfJNE6cF1neD4yQK3OacpqAFy7jH/A8tBJanOAKgchihpNZFVtRJOtqu1vZWJdbs4aduQXcNiqb5Rk0nLfVtIa8nrkm05aetss3Y7fltvbPrihe2jY7fhwidZ7uVft9iHbQ8u02/W0TvPkxFn6dO2X7w78Z/zcFOvHPjfylA1UM9i8yDoY+/IoOrBRPELjQLW54US2vJdD7jnPhdpSYes0YA1SzIHdaAvLPlTu30MFYvcZQL3j6T6mwPEf</diagram></mxfile>


<font face="微软雅黑" size=5  > What is Merge Sort?  
<font face="微软雅黑" size=3  >Merge Sort屬於比較進階的演算法，排序方法也比較複雜一點，基本的步驟可以分為「拆分」與「合併」：
拆分
把大陣列切一半成為兩個小陣列
把切好的兩個小陣列再各自切一半
重複步驟二直到每個小陣列都只剩一個元素
合併
排序兩個只剩一個元素的小陣列並合併
把兩邊排序好的小陣列合併並排序成一個陣列
重複步驟二直到所有小陣列都合併成一個大陣列  

<font face="微软雅黑" size=3  >我一開始的想法是,把array一分為二,先把兩個分割到只剩一個並且先排列.
然後再把兩個排列好的array從index=0相互比較,將比較小的加入第三個array,
也就是最後mergesort出來的array


參考資料

https://stackoverflow.com/questions/18761766/mergesort-with-python
https://docs.google.com/presentation/d/e/2PACX-1vToxkEzc1H1RT5MI9G941KQFBC7GO_Efn95wTqXLEdr3LDBSNcQb-M46IOC-_RzZih6IBEwwy3rWQuE/pub?start=false&loop=false&delayms=3000&slide=id.g6f5f9558de_0_31
https://pjchender.blogspot.com/2017/09/merge-sort.html
https://emn178.pixnet.net/blog/post/87965707
