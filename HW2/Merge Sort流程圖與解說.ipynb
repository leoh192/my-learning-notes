def heapify(arr,n,i):#將list轉成heap
    
    largest = i      #設i的數值為最大
    left = 2*i+1     #左邊node的位置
    right = 2*i+2    #右邊node的位置
    
    if n <= 1:       #如果array長度<=1,則回傳
        
        return arr
    
    if left < n and arr[i] < arr[left]:  #root的數值要比child大,如果child比較大,則設child為最大
        largest = left
        
    if right < n and arr[i] < arr[right]: 
        largest = right
        
    if largest != i : 
        arr[i], arr[largest] = arr[largest], arr[i]
        
        heapify(arr,n,i)
        
def heapsort(arr):  

    n = len(arr)   #長度為array的長度
    
    for i in range(n,-1,-1):  #
        heapify(arr,n,i)
        
    for i in range(n-1,0,-1): #
        arr[i], arr[0] = arr[0], arr[i]
        
        heapify(arr,i,0)
        
        
    return arr

arr = [8,11,9,2,10,16]
heapsort(arr) 


<font face="微软雅黑" size=5  > What is Merge Sort?  
<font face="微软雅黑" size=3  >Merge Sort屬於比較進階的演算法，排序方法也比較複雜一點，基本的步驟可以分為「拆分」與「合併」：
拆分
把大陣列切一半成為兩個小陣列
把切好的兩個小陣列再各自切一半
重複步驟二直到每個小陣列都只剩一個元素
合併
排序兩個只剩一個元素的小陣列並合併
把兩邊排序好的小陣列合併並排序成一個陣列
重複步驟二直到所有小陣列都合併成一個大陣列    

<font face="微软雅黑" size=3  >我一開始的想法是,把array一分為二,先把兩個分割到只剩一個並且先排列.
然後再把兩個排列好的array從index=0相互比較,將比較小的加入第三個array,
也就是最後mergesort出來的array


參考資料

https://stackoverflow.com/questions/18761766/mergesort-with-python
https://docs.google.com/presentation/d/e/2PACX-1vToxkEzc1H1RT5MI9G941KQFBC7GO_Efn95wTqXLEdr3LDBSNcQb-M46IOC-_RzZih6IBEwwy3rWQuE/pub?start=false&loop=false&delayms=3000&slide=id.g6f5f9558de_0_31
https://pjchender.blogspot.com/2017/09/merge-sort.html
https://emn178.pixnet.net/blog/post/87965707
