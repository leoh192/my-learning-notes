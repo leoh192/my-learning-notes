![image](https://github.com/leoh192/my-learning-notes/blob/master/image/287256.jpg)

         
What is Heap Sort?

特點 以陣列表示，但是以完全二元樹的方式理解。 唯一能夠同時最優地利用空間和時間的方法——最壞情況下也能保證使用 2N \log N2NlogN 次比較和恒定的額外空間。 
在索引從0開始的陣列中： 
父節點 i 的左子節點在位置(2i+1) 父節點 i 的右子節點在位置(2i+2) 子節點 i 的父節點在位置floor((i-1)/2)

